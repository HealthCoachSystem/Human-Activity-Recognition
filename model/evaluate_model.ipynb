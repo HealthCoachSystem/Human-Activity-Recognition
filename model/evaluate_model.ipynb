{
 "cells": [
  {
   "cell_type": "code",
   "execution_count": 1,
   "metadata": {},
   "outputs": [],
   "source": [
    "# importing the dependencies\n",
    "from tensorflow.keras.models import load_model\n",
    "import numpy as np\n",
    "from sklearn import metrics\n",
    "import matplotlib.pyplot as plt\n",
    "import os"
   ]
  },
  {
   "cell_type": "code",
   "execution_count": 2,
   "metadata": {},
   "outputs": [],
   "source": [
    "# defining a function for plotting the confusion matrix\n",
    "# takes cmNormalized\n",
    "os.environ['QT_PLUGIN_PATH'] = ''\n",
    "def plot_cm(cM, labels,title):\n",
    "    # normalizing the confusionMatrix for showing the probabilities\n",
    "    cmNormalized = np.around((cM/cM.sum(axis=1)[:,None])*100,2)\n",
    "    # creating a figure object\n",
    "    fig = plt.figure()\n",
    "    # plotting the confusion matrix\n",
    "    plt.imshow(cmNormalized,interpolation=None,cmap = plt.cm.Greens)\n",
    "    # creating a color bar and setting the limits\n",
    "    plt.colorbar()\n",
    "    plt.clim(0,100)\n",
    "    # assiging the title, x and y labels\n",
    "    plt.xlabel('Predicted Values')\n",
    "    plt.ylabel('Ground Truth')\n",
    "    plt.title(title + '\\n%age confidence')\n",
    "    # defining the ticks for the x and y axis\n",
    "    plt.xticks(range(len(labels)),labels,rotation = 60)\n",
    "    plt.yticks(range(len(labels)),labels)\n",
    "    # number of occurences in the boxes\n",
    "    width, height = cM.shape \n",
    "    print('Accuracy for each class is given below.')\n",
    "    for predicted in range(width):\n",
    "        for real in range(height):\n",
    "            color = 'black'\n",
    "            if(predicted == real):\n",
    "                color = 'white'\n",
    "                print(labels[predicted].ljust(12)+ ':', cmNormalized[predicted,real], '%')\n",
    "            plt.gca().annotate(\n",
    "                    '{:d}'.format(int(cmNormalized[predicted,real])),xy=(real, predicted),\n",
    "                    horizontalalignment = 'center',verticalalignment = 'center',color = color)\n",
    "    # making sure that the figure is not clipped\n",
    "    plt.tight_layout()\n",
    "    # saving the figure\n",
    "    fig.savefig(title +'.png')\n"
   ]
  },
  {
   "cell_type": "markdown",
   "metadata": {},
   "source": [
    "# Creating and plotting a confusion matrix"
   ]
  },
  {
   "cell_type": "code",
   "execution_count": 3,
   "metadata": {
    "scrolled": true
   },
   "outputs": [
    {
     "name": "stdout",
     "output_type": "stream",
     "text": [
      "1956/1 - 0s\n",
      "Accuracy for each class is given below.\n",
      "pushup      : 81.28 %\n",
      "sidebend    : 100.0 %\n",
      "sidecrunch  : 99.06 %\n",
      "situp       : 100.0 %\n",
      "squat       : 92.24 %\n"
     ]
    },
    {
     "data": {
      "image/png": "[encoded data removed]",
      "text/plain": [
       "<Figure size 432x288 with 2 Axes>"
      ]
     },
     "metadata": {
      "needs_background": "light"
     },
     "output_type": "display_data"
    }
   ],
   "source": [
    "# loading the pretrained model, estData and groundTruth data\n",
    "model = load_model('model.h5')\n",
    "\n",
    "test_x = np.load('testData.npy')\n",
    "groundTruth = np.load('groundTruth.npy')\n",
    "#test_x = np.load('model_testData.npy')\n",
    "#groundTruth = np.load('model_groundTruth.npy')\n",
    "#score = model.evaluate(test_x,groundTruth,verbose=2)\n",
    "\n",
    "\n",
    "labels = ['break','pushup','sidebend','sidecrunch','situp','squat'] # 이게 맞는거\n",
    "labels = ['pushup','sidebend','sidecrunch','situp','squat']\n",
    "\n",
    "\"\"\"xxx = model.predict_classes(test_x)\n",
    "print('predict',xxx)\n",
    "\n",
    "answer=[]\n",
    "for i in groundTruth:\n",
    "    answer.append(*np.where(i==1)[0])\n",
    "print('answer',answer)\"\"\"\n",
    "\n",
    "predictions = model.predict(test_x,verbose=2)\n",
    "\n",
    "# getting the class predicted and class in ground truth for creation of confusion matrix\n",
    "predictedClass = np.zeros((predictions.shape[0]))\n",
    "groundTruthClass = np.zeros((groundTruth.shape[0]))\n",
    "for instance in range (groundTruth.shape[0]):\n",
    "    predictedClass[instance] = np.argmax(predictions[instance,:])\n",
    "    groundTruthClass[instance] = np.argmax(groundTruth[instance,:])\n",
    "\n",
    "# obtaining a confusion matrix  \n",
    "cm = metrics.confusion_matrix(groundTruthClass,predictedClass)\n",
    "\n",
    "# plotting the confusion matrix\n",
    "plot_cm(cm, labels,'Confusion Matrix')"
   ]
  },
  {
   "cell_type": "code",
   "execution_count": null,
   "metadata": {},
   "outputs": [],
   "source": []
  },
  {
   "cell_type": "code",
   "execution_count": null,
   "metadata": {},
   "outputs": [],
   "source": []
  }
 ],
 "metadata": {
  "kernelspec": {
   "display_name": "Python 3",
   "language": "python",
   "name": "python3"
  },
  "language_info": {
   "codemirror_mode": {
    "name": "ipython",
    "version": 3
   },
   "file_extension": ".py",
   "mimetype": "text/x-python",
   "name": "python",
   "nbconvert_exporter": "python",
   "pygments_lexer": "ipython3",
   "version": "3.7.6"
  }
 },
 "nbformat": 4,
 "nbformat_minor": 4
}
