{
 "cells": [
  {
   "cell_type": "code",
   "execution_count": 2,
   "metadata": {},
   "outputs": [],
   "source": [
    "import pandas as pd\n",
    "import numpy as np\n",
    "from scipy import stats\n",
    "from tensorflow.keras.models import load_model\n",
    "\n",
    "def readData(filePath):\n",
    "    # attributes of the dataset\n",
    "    columnNames = ['user_id','activity','timestamp','x-axis','y-axis','z-axis','x-rotate','y-rotate','z-rotate','arms','rrms','roll','pitch']\n",
    "    data = pd.read_csv(filePath,header = None, names=columnNames,na_values=';')\n",
    "    return data\n",
    "\n",
    "def windows(data,size):\n",
    "    start = 0\n",
    "    while start< data.count():\n",
    "        yield int(start), int(start + size)\n",
    "        start+= (size/2)\n",
    "# segmenting the time series\n",
    "def segment_signal(data, window_size = 30):\n",
    "    segments = np.empty((0,window_size,10))\n",
    "    labels= np.empty((0))\n",
    "    for (start, end) in windows(data['timestamp'],window_size):\n",
    "        x = data['x-axis'][start:end]\n",
    "        y = data['y-axis'][start:end]\n",
    "        z = data['z-axis'][start:end]\n",
    "        a = data['x-rotate'][start:end]\n",
    "        b = data['y-rotate'][start:end]\n",
    "        c = data['z-rotate'][start:end]\n",
    "        d = data['arms'][start:end]\n",
    "        e = data['rrms'][start:end]\n",
    "        f = data['roll'][start:end]\n",
    "        g = data['pitch'][start:end]\n",
    "        if(len(data['timestamp'][start:end])==window_size):\n",
    "            segments = np.vstack([segments,np.dstack([x,y,z,a,b,c,d,e,f,g])])\n",
    "            labels = np.append(labels,stats.mode(data['activity'][start:end])[0][0])\n",
    "    return segments, labels\n",
    "\n",
    "dataset = readData('./TEST_DATA/test_total_added_sidecrunch.txt')\n",
    "segments, labels = segment_signal(dataset) \n",
    "\n",
    "labels = np.asarray(pd.get_dummies(labels),dtype = np.int8) ##\n",
    "\n",
    "numOfRows = segments.shape[1]\n",
    "numOfColumns = segments.shape[2]\n",
    "reshapedSegments = segments.reshape(segments.shape[0], numOfRows, numOfColumns,1)\n",
    "testX = reshapedSegments\n",
    "testX = np.nan_to_num(testX)\n",
    "testY = labels\n",
    "\n",
    "np.save('groundTruth.npy',testY)\n",
    "np.save('testData.npy',testX)"
   ]
  },
  {
   "cell_type": "code",
   "execution_count": null,
   "metadata": {},
   "outputs": [],
   "source": []
  }
 ],
 "metadata": {
  "kernelspec": {
   "display_name": "Python 3",
   "language": "python",
   "name": "python3"
  },
  "language_info": {
   "codemirror_mode": {
    "name": "ipython",
    "version": 3
   },
   "file_extension": ".py",
   "mimetype": "text/x-python",
   "name": "python",
   "nbconvert_exporter": "python",
   "pygments_lexer": "ipython3",
   "version": "3.7.6"
  }
 },
 "nbformat": 4,
 "nbformat_minor": 4
}
