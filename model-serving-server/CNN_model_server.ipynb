{
 "cells": [
  {
   "cell_type": "markdown",
   "metadata": {},
   "source": [
    "## 데이터 전처리\n"
   ]
  },
  {
   "cell_type": "code",
   "execution_count": 4,
   "metadata": {},
   "outputs": [],
   "source": [
    "import pandas as pd\n",
    "import numpy as np\n",
    "from scipy import stats\n",
    "from tensorflow.keras.models import load_model\n",
    "#answer= ['break','pushup','sidebend','sidecruch','situp','squat']\n",
    "answer= ['pushup','sidebend','sidecruch','situp','squat']\n",
    "\n",
    "def windows(data,size):\n",
    "    start = 0\n",
    "    while start< data.count():\n",
    "        yield int(start), int(start + size)\n",
    "        start+= (size/2)\n",
    "# segmenting the time series\n",
    "def segment_signal(data, window_size = 30):\n",
    "    segments = np.empty((0,window_size,10))\n",
    "    labels= np.empty((0))\n",
    "    for (start, end) in windows(data['timestamp'],window_size):\n",
    "        x = data['x-axis'][start:end]\n",
    "        y = data['y-axis'][start:end]\n",
    "        z = data['z-axis'][start:end]\n",
    "        a = data['x-rotate'][start:end]\n",
    "        b = data['y-rotate'][start:end]\n",
    "        c = data['z-rotate'][start:end]\n",
    "        d = data['arms'][start:end]\n",
    "        e = data['rrms'][start:end]\n",
    "        f = data['roll'][start:end]\n",
    "        g = data['pitch'][start:end]\n",
    "        if(len(data['timestamp'][start:end])==window_size):\n",
    "            segments = np.vstack([segments,np.dstack([x,y,z,a,b,c,d,e,f,g])])\n",
    "            labels = np.append(labels,stats.mode(data['activity'][start:end])[0][0])\n",
    "    return segments, labels"
   ]
  },
  {
   "cell_type": "markdown",
   "metadata": {},
   "source": [
    "## CNN 서버 실행"
   ]
  },
  {
   "cell_type": "code",
   "execution_count": 5,
   "metadata": {},
   "outputs": [
    {
     "name": "stdout",
     "output_type": "stream",
     "text": [
      " * Serving Flask app \"__main__\" (lazy loading)\n",
      " * Environment: production\n",
      "   WARNING: This is a development server. Do not use it in a production deployment.\n",
      "   Use a production WSGI server instead.\n",
      " * Debug mode: off\n"
     ]
    },
    {
     "name": "stderr",
     "output_type": "stream",
     "text": [
      " * Running on http://0.0.0.0:2431/ (Press CTRL+C to quit)\n"
     ]
    }
   ],
   "source": [
    "# CNN 서버 실행\n",
    "\n",
    "from flask import Flask, jsonify, request, render_template\n",
    "from tensorflow import keras\n",
    "\n",
    "cnt=0\n",
    "model = load_model('../model/model.h5')\n",
    "isFirst=True\n",
    "tmp_data = {\n",
    "            'activity'  : ['pushup']*30,\n",
    "            'timestamp' : [i for i in range(1,31)],\n",
    "            'x-axis'    : None,\n",
    "            'y-axis'    : None,\n",
    "            'z-axis'    : None,\n",
    "            'x-rotate'  : None,\n",
    "            'y-rotate'  : None,\n",
    "            'z-rotate'  : None,\n",
    "            'arms'      : None,\n",
    "            'rrms'      : None,\n",
    "            'roll'      : None,\n",
    "            'pitch'     : None\n",
    "}\n",
    "\n",
    "def data_slicing(data):\n",
    "    return data[15:]\n",
    "\n",
    "app = Flask(__name__)\n",
    "@app.route(\"/\", methods=[\"POST\",\"GET\"])\n",
    "def index():\n",
    "    \n",
    "    if request.method=='GET':\n",
    "        return render_template('test.html', name='2')\n",
    "    \n",
    "    global cnt\n",
    "    global isFirst\n",
    "    cnt+=1\n",
    "    \n",
    "    data = request.json\n",
    "    if isFirst:\n",
    "        tmp_data['x-axis']=list(map(float,data[\"xAcc\"].split(',')))\n",
    "        tmp_data['y-axis']=list(map(float,data[\"yAcc\"].split(',')))\n",
    "        tmp_data['z-axis']=list(map(float,data[\"zAcc\"].split(',')))\n",
    "        tmp_data['x-rotate']=list(map(float,data[\"xRot\"].split(',')))\n",
    "        tmp_data['y-rotate']=list(map(float,data[\"yRot\"].split(',')))\n",
    "        tmp_data['z-rotate']=list(map(float,data[\"zRot\"].split(',')))\n",
    "        tmp_data['arms']=list(map(float,data[\"AccRms\"].split(',')))\n",
    "        tmp_data['rrms' ]=list(map(float,data[\"RotRms\"].split(',')))\n",
    "        tmp_data['roll' ]=list(map(float,data[\"roll\"].split(',')))\n",
    "        tmp_data['pitch']=list(map(float,data[\"pitch\"].split(',')))\n",
    "        isFirst = False\n",
    "        return jsonify({\"price\":'test'})\n",
    "    else:\n",
    "        tmp_data['x-axis']+=list(map(float,data[\"xAcc\"].split(',')))\n",
    "        tmp_data['y-axis']+=list(map(float,data[\"yAcc\"].split(',')))\n",
    "        tmp_data['z-axis']+=list(map(float,data[\"zAcc\"].split(',')))\n",
    "        tmp_data['x-rotate']+=list(map(float,data[\"xRot\"].split(',')))\n",
    "        tmp_data['y-rotate']+=list(map(float,data[\"yRot\"].split(',')))\n",
    "        tmp_data['z-rotate']+=list(map(float,data[\"zRot\"].split(',')))\n",
    "        tmp_data['arms']+=list(map(float,data[\"AccRms\"].split(',')))\n",
    "        tmp_data['rrms' ]+=list(map(float,data[\"RotRms\"].split(',')))\n",
    "        tmp_data['roll' ]+=list(map(float,data[\"roll\"].split(',')))\n",
    "        tmp_data['pitch']+=list(map(float,data[\"pitch\"].split(',')))\n",
    "        \n",
    "        dataset = pd.DataFrame(tmp_data)\n",
    "        \n",
    "        tmp_data['x-axis']=data_slicing(tmp_data['x-axis'])\n",
    "        tmp_data['y-axis']=data_slicing(tmp_data['y-axis'])\n",
    "        tmp_data['z-axis']=data_slicing(tmp_data['z-axis'])\n",
    "        tmp_data['x-rotate']=data_slicing(tmp_data['x-rotate'])\n",
    "        tmp_data['y-rotate']=data_slicing(tmp_data['y-rotate'])\n",
    "        tmp_data['z-rotate']=data_slicing(tmp_data['z-rotate'])\n",
    "        tmp_data['arms']=data_slicing(tmp_data['arms'])\n",
    "        tmp_data['rrms' ]=data_slicing(tmp_data['rrms'])\n",
    "        tmp_data['roll' ]=data_slicing(tmp_data['roll'])\n",
    "        tmp_data['pitch']=data_slicing(tmp_data['pitch'])\n",
    "        \n",
    "        \n",
    "        # window size에 다가 50% 중첩이므로 totaldata/(windowsize/2)의 개수를 가진다 \n",
    "        segments, labels = segment_signal(dataset) \n",
    "        numOfRows = segments.shape[1]\n",
    "        numOfColumns = segments.shape[2]\n",
    "        reshapedSegments = segments.reshape(segments.shape[0], numOfRows, numOfColumns,1)\n",
    "        testX = reshapedSegments\n",
    "        testX = np.nan_to_num(testX)\n",
    "        predictions = model.predict_classes(testX)\n",
    "        predictions=predictions.tolist()\n",
    "        \n",
    "        print('cnt-------------------------->',cnt,answer[predictions[0]])\n",
    "        return jsonify({\"exercise\":answer[predictions[0]]})\n",
    "    \n",
    "if __name__ == '__main__':\n",
    "    app.run(host='0.0.0.0', port=2431, threaded=False)"
   ]
  },
  {
   "cell_type": "code",
   "execution_count": null,
   "metadata": {},
   "outputs": [],
   "source": []
  },
  {
   "cell_type": "code",
   "execution_count": null,
   "metadata": {},
   "outputs": [],
   "source": []
  },
  {
   "cell_type": "code",
   "execution_count": null,
   "metadata": {},
   "outputs": [],
   "source": []
  }
 ],
 "metadata": {
  "kernelspec": {
   "display_name": "Python 3",
   "language": "python",
   "name": "python3"
  },
  "language_info": {
   "codemirror_mode": {
    "name": "ipython",
    "version": 3
   },
   "file_extension": ".py",
   "mimetype": "text/x-python",
   "name": "python",
   "nbconvert_exporter": "python",
   "pygments_lexer": "ipython3",
   "version": "3.7.6"
  }
 },
 "nbformat": 4,
 "nbformat_minor": 4
}
