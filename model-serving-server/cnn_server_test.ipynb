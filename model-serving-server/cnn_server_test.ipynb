{
 "cells": [
  {
   "cell_type": "markdown",
   "metadata": {},
   "source": [
    "## 데이터 전처리\n"
   ]
  },
  {
   "cell_type": "code",
   "execution_count": 1,
   "metadata": {},
   "outputs": [],
   "source": [
    "import pandas as pd\n",
    "import numpy as np\n",
    "from scipy import stats\n",
    "from tensorflow.keras.models import load_model\n",
    "answer = ['pushup','situp','squat','sidebend','sidecruch']\n",
    "\n",
    "def windows(data,size):\n",
    "    start = 0\n",
    "    while start< data.count():\n",
    "        yield int(start), int(start + size)\n",
    "        start+= (size/2)\n",
    "# segmenting the time series\n",
    "def segment_signal(data, window_size = 30):\n",
    "    segments = np.empty((0,window_size,10))\n",
    "    labels= np.empty((0))\n",
    "    for (start, end) in windows(data['timestamp'],window_size):\n",
    "        x = data['x-axis'][start:end]\n",
    "        y = data['y-axis'][start:end]\n",
    "        z = data['z-axis'][start:end]\n",
    "        a = data['x-rotate'][start:end]\n",
    "        b = data['y-rotate'][start:end]\n",
    "        c = data['z-rotate'][start:end]\n",
    "        d = data['arms'][start:end]\n",
    "        e = data['rrms'][start:end]\n",
    "        f = data['roll'][start:end]\n",
    "        g = data['pitch'][start:end]\n",
    "        if(len(data['timestamp'][start:end])==window_size):\n",
    "            segments = np.vstack([segments,np.dstack([x,y,z,a,b,c,d,e,f,g])])\n",
    "            labels = np.append(labels,stats.mode(data['activity'][start:end])[0][0])\n",
    "    return segments, labels\n",
    "\n"
   ]
  },
  {
   "cell_type": "markdown",
   "metadata": {},
   "source": [
    "## CNN 서버 실행"
   ]
  },
  {
   "cell_type": "code",
   "execution_count": null,
   "metadata": {},
   "outputs": [
    {
     "name": "stdout",
     "output_type": "stream",
     "text": [
      " * Serving Flask app \"__main__\" (lazy loading)\n",
      " * Environment: production\n",
      "   WARNING: This is a development server. Do not use it in a production deployment.\n",
      "   Use a production WSGI server instead.\n",
      " * Debug mode: off\n"
     ]
    },
    {
     "name": "stderr",
     "output_type": "stream",
     "text": [
      " * Running on http://0.0.0.0:2431/ (Press CTRL+C to quit)\n"
     ]
    },
    {
     "name": "stdout",
     "output_type": "stream",
     "text": [
      "dataset 30\n",
      "segments 1\n",
      "testX 1\n"
     ]
    },
    {
     "name": "stderr",
     "output_type": "stream",
     "text": [
      "218.150.183.94 - - [10/Aug/2020 12:49:06] \"\u001b[37mPOST / HTTP/1.1\u001b[0m\" 200 -\n"
     ]
    },
    {
     "name": "stdout",
     "output_type": "stream",
     "text": [
      "predictions 1\n",
      "cnt--------------------------> 1\n",
      "dataset 30\n",
      "segments 1\n",
      "testX 1\n"
     ]
    },
    {
     "name": "stderr",
     "output_type": "stream",
     "text": [
      "218.150.183.94 - - [10/Aug/2020 12:49:08] \"\u001b[37mPOST / HTTP/1.1\u001b[0m\" 200 -\n"
     ]
    },
    {
     "name": "stdout",
     "output_type": "stream",
     "text": [
      "predictions 1\n",
      "cnt--------------------------> 2\n",
      "dataset 30\n",
      "segments 1\n",
      "testX 1\n"
     ]
    },
    {
     "name": "stderr",
     "output_type": "stream",
     "text": [
      "218.150.183.94 - - [10/Aug/2020 12:49:10] \"\u001b[37mPOST / HTTP/1.1\u001b[0m\" 200 -\n"
     ]
    },
    {
     "name": "stdout",
     "output_type": "stream",
     "text": [
      "predictions 1\n",
      "cnt--------------------------> 3\n",
      "dataset 30\n",
      "segments 1\n",
      "testX 1\n"
     ]
    },
    {
     "name": "stderr",
     "output_type": "stream",
     "text": [
      "218.150.183.94 - - [10/Aug/2020 12:49:13] \"\u001b[37mPOST / HTTP/1.1\u001b[0m\" 200 -\n"
     ]
    },
    {
     "name": "stdout",
     "output_type": "stream",
     "text": [
      "predictions 1\n",
      "cnt--------------------------> 4\n",
      "dataset 30\n",
      "segments 1\n",
      "testX 1\n"
     ]
    },
    {
     "name": "stderr",
     "output_type": "stream",
     "text": [
      "218.150.183.94 - - [10/Aug/2020 12:49:16] \"\u001b[37mPOST / HTTP/1.1\u001b[0m\" 200 -\n"
     ]
    },
    {
     "name": "stdout",
     "output_type": "stream",
     "text": [
      "predictions 1\n",
      "cnt--------------------------> 5\n",
      "dataset 30\n",
      "segments 1\n",
      "testX 1\n"
     ]
    },
    {
     "name": "stderr",
     "output_type": "stream",
     "text": [
      "218.150.183.94 - - [10/Aug/2020 12:49:19] \"\u001b[37mPOST / HTTP/1.1\u001b[0m\" 200 -\n"
     ]
    },
    {
     "name": "stdout",
     "output_type": "stream",
     "text": [
      "predictions 1\n",
      "cnt--------------------------> 6\n",
      "dataset 30\n",
      "segments 1\n",
      "testX 1\n"
     ]
    },
    {
     "name": "stderr",
     "output_type": "stream",
     "text": [
      "218.150.183.94 - - [10/Aug/2020 12:49:22] \"\u001b[37mPOST / HTTP/1.1\u001b[0m\" 200 -\n"
     ]
    },
    {
     "name": "stdout",
     "output_type": "stream",
     "text": [
      "predictions 1\n",
      "cnt--------------------------> 7\n",
      "dataset 30\n",
      "segments 1\n",
      "testX 1\n"
     ]
    },
    {
     "name": "stderr",
     "output_type": "stream",
     "text": [
      "218.150.183.94 - - [10/Aug/2020 12:49:25] \"\u001b[37mPOST / HTTP/1.1\u001b[0m\" 200 -\n"
     ]
    },
    {
     "name": "stdout",
     "output_type": "stream",
     "text": [
      "predictions 1\n",
      "cnt--------------------------> 8\n",
      "dataset 30\n",
      "segments 1\n",
      "testX 1\n"
     ]
    },
    {
     "name": "stderr",
     "output_type": "stream",
     "text": [
      "218.150.183.94 - - [10/Aug/2020 12:49:28] \"\u001b[37mPOST / HTTP/1.1\u001b[0m\" 200 -\n"
     ]
    },
    {
     "name": "stdout",
     "output_type": "stream",
     "text": [
      "predictions 1\n",
      "cnt--------------------------> 9\n",
      "dataset 30\n",
      "segments 1\n",
      "testX 1\n"
     ]
    },
    {
     "name": "stderr",
     "output_type": "stream",
     "text": [
      "218.150.183.94 - - [10/Aug/2020 12:49:31] \"\u001b[37mPOST / HTTP/1.1\u001b[0m\" 200 -\n"
     ]
    },
    {
     "name": "stdout",
     "output_type": "stream",
     "text": [
      "predictions 1\n",
      "cnt--------------------------> 10\n",
      "dataset 30\n",
      "segments 1\n",
      "testX 1\n"
     ]
    },
    {
     "name": "stderr",
     "output_type": "stream",
     "text": [
      "218.150.183.94 - - [10/Aug/2020 12:49:34] \"\u001b[37mPOST / HTTP/1.1\u001b[0m\" 200 -\n"
     ]
    },
    {
     "name": "stdout",
     "output_type": "stream",
     "text": [
      "predictions 1\n",
      "cnt--------------------------> 11\n",
      "dataset 30\n",
      "segments 1\n",
      "testX 1\n"
     ]
    },
    {
     "name": "stderr",
     "output_type": "stream",
     "text": [
      "218.150.183.94 - - [10/Aug/2020 12:49:37] \"\u001b[37mPOST / HTTP/1.1\u001b[0m\" 200 -\n"
     ]
    },
    {
     "name": "stdout",
     "output_type": "stream",
     "text": [
      "predictions 1\n",
      "cnt--------------------------> 12\n",
      "dataset 30\n",
      "segments 1\n",
      "testX 1\n"
     ]
    },
    {
     "name": "stderr",
     "output_type": "stream",
     "text": [
      "218.150.183.94 - - [10/Aug/2020 12:49:40] \"\u001b[37mPOST / HTTP/1.1\u001b[0m\" 200 -\n"
     ]
    },
    {
     "name": "stdout",
     "output_type": "stream",
     "text": [
      "predictions 1\n",
      "cnt--------------------------> 13\n",
      "dataset 30\n",
      "segments 1\n",
      "testX 1\n"
     ]
    },
    {
     "name": "stderr",
     "output_type": "stream",
     "text": [
      "218.150.183.94 - - [10/Aug/2020 12:49:43] \"\u001b[37mPOST / HTTP/1.1\u001b[0m\" 200 -\n"
     ]
    },
    {
     "name": "stdout",
     "output_type": "stream",
     "text": [
      "predictions 1\n",
      "cnt--------------------------> 14\n",
      "dataset 30\n",
      "segments 1\n",
      "testX 1\n"
     ]
    },
    {
     "name": "stderr",
     "output_type": "stream",
     "text": [
      "218.150.183.94 - - [10/Aug/2020 12:49:46] \"\u001b[37mPOST / HTTP/1.1\u001b[0m\" 200 -\n"
     ]
    },
    {
     "name": "stdout",
     "output_type": "stream",
     "text": [
      "predictions 1\n",
      "cnt--------------------------> 15\n",
      "dataset 30\n",
      "segments 1\n",
      "testX 1\n"
     ]
    },
    {
     "name": "stderr",
     "output_type": "stream",
     "text": [
      "218.150.183.94 - - [10/Aug/2020 12:49:49] \"\u001b[37mPOST / HTTP/1.1\u001b[0m\" 200 -\n"
     ]
    },
    {
     "name": "stdout",
     "output_type": "stream",
     "text": [
      "predictions 1\n",
      "cnt--------------------------> 16\n",
      "dataset 30\n",
      "segments 1\n",
      "testX 1\n"
     ]
    },
    {
     "name": "stderr",
     "output_type": "stream",
     "text": [
      "218.150.183.94 - - [10/Aug/2020 12:49:52] \"\u001b[37mPOST / HTTP/1.1\u001b[0m\" 200 -\n"
     ]
    },
    {
     "name": "stdout",
     "output_type": "stream",
     "text": [
      "predictions 1\n",
      "cnt--------------------------> 17\n",
      "dataset 30\n",
      "segments 1\n",
      "testX 1\n"
     ]
    },
    {
     "name": "stderr",
     "output_type": "stream",
     "text": [
      "218.150.183.94 - - [10/Aug/2020 12:49:55] \"\u001b[37mPOST / HTTP/1.1\u001b[0m\" 200 -\n"
     ]
    },
    {
     "name": "stdout",
     "output_type": "stream",
     "text": [
      "predictions 1\n",
      "cnt--------------------------> 18\n",
      "dataset 30\n",
      "segments 1\n",
      "testX 1\n"
     ]
    },
    {
     "name": "stderr",
     "output_type": "stream",
     "text": [
      "218.150.183.94 - - [10/Aug/2020 12:49:58] \"\u001b[37mPOST / HTTP/1.1\u001b[0m\" 200 -\n"
     ]
    },
    {
     "name": "stdout",
     "output_type": "stream",
     "text": [
      "predictions 1\n",
      "cnt--------------------------> 19\n",
      "dataset 30\n",
      "segments 1\n",
      "testX 1\n"
     ]
    },
    {
     "name": "stderr",
     "output_type": "stream",
     "text": [
      "218.150.183.94 - - [10/Aug/2020 12:50:01] \"\u001b[37mPOST / HTTP/1.1\u001b[0m\" 200 -\n"
     ]
    },
    {
     "name": "stdout",
     "output_type": "stream",
     "text": [
      "predictions 1\n",
      "cnt--------------------------> 20\n",
      "dataset 30\n",
      "segments 1\n",
      "testX 1\n"
     ]
    },
    {
     "name": "stderr",
     "output_type": "stream",
     "text": [
      "218.150.183.94 - - [10/Aug/2020 12:50:04] \"\u001b[37mPOST / HTTP/1.1\u001b[0m\" 200 -\n"
     ]
    },
    {
     "name": "stdout",
     "output_type": "stream",
     "text": [
      "predictions 1\n",
      "cnt--------------------------> 21\n",
      "dataset 30\n",
      "segments 1\n",
      "testX 1\n"
     ]
    },
    {
     "name": "stderr",
     "output_type": "stream",
     "text": [
      "218.150.183.94 - - [10/Aug/2020 12:50:07] \"\u001b[37mPOST / HTTP/1.1\u001b[0m\" 200 -\n"
     ]
    },
    {
     "name": "stdout",
     "output_type": "stream",
     "text": [
      "predictions 1\n",
      "cnt--------------------------> 22\n",
      "dataset 30\n",
      "segments 1\n",
      "testX 1\n"
     ]
    },
    {
     "name": "stderr",
     "output_type": "stream",
     "text": [
      "218.150.183.94 - - [10/Aug/2020 12:50:10] \"\u001b[37mPOST / HTTP/1.1\u001b[0m\" 200 -\n"
     ]
    },
    {
     "name": "stdout",
     "output_type": "stream",
     "text": [
      "predictions 1\n",
      "cnt--------------------------> 23\n",
      "dataset 30\n",
      "segments 1\n",
      "testX 1\n"
     ]
    },
    {
     "name": "stderr",
     "output_type": "stream",
     "text": [
      "218.150.183.94 - - [10/Aug/2020 12:50:13] \"\u001b[37mPOST / HTTP/1.1\u001b[0m\" 200 -\n"
     ]
    },
    {
     "name": "stdout",
     "output_type": "stream",
     "text": [
      "predictions 1\n",
      "cnt--------------------------> 24\n",
      "dataset 30\n",
      "segments 1\n",
      "testX 1\n"
     ]
    },
    {
     "name": "stderr",
     "output_type": "stream",
     "text": [
      "218.150.183.94 - - [10/Aug/2020 12:50:16] \"\u001b[37mPOST / HTTP/1.1\u001b[0m\" 200 -\n"
     ]
    },
    {
     "name": "stdout",
     "output_type": "stream",
     "text": [
      "predictions 1\n",
      "cnt--------------------------> 25\n",
      "dataset 30\n",
      "segments 1\n",
      "testX 1\n"
     ]
    },
    {
     "name": "stderr",
     "output_type": "stream",
     "text": [
      "218.150.183.94 - - [10/Aug/2020 12:50:19] \"\u001b[37mPOST / HTTP/1.1\u001b[0m\" 200 -\n"
     ]
    },
    {
     "name": "stdout",
     "output_type": "stream",
     "text": [
      "predictions 1\n",
      "cnt--------------------------> 26\n",
      "dataset 30\n",
      "segments 1\n",
      "testX 1\n"
     ]
    },
    {
     "name": "stderr",
     "output_type": "stream",
     "text": [
      "218.150.183.94 - - [10/Aug/2020 12:50:22] \"\u001b[37mPOST / HTTP/1.1\u001b[0m\" 200 -\n"
     ]
    },
    {
     "name": "stdout",
     "output_type": "stream",
     "text": [
      "predictions 1\n",
      "cnt--------------------------> 27\n",
      "dataset 30\n",
      "segments 1\n",
      "testX 1\n"
     ]
    },
    {
     "name": "stderr",
     "output_type": "stream",
     "text": [
      "218.150.183.94 - - [10/Aug/2020 12:50:25] \"\u001b[37mPOST / HTTP/1.1\u001b[0m\" 200 -\n"
     ]
    },
    {
     "name": "stdout",
     "output_type": "stream",
     "text": [
      "predictions 1\n",
      "cnt--------------------------> 28\n",
      "dataset 30\n",
      "segments 1\n",
      "testX 1\n"
     ]
    },
    {
     "name": "stderr",
     "output_type": "stream",
     "text": [
      "218.150.183.94 - - [10/Aug/2020 12:50:28] \"\u001b[37mPOST / HTTP/1.1\u001b[0m\" 200 -\n"
     ]
    },
    {
     "name": "stdout",
     "output_type": "stream",
     "text": [
      "predictions 1\n",
      "cnt--------------------------> 29\n",
      "dataset 30\n",
      "segments 1\n",
      "testX 1\n"
     ]
    },
    {
     "name": "stderr",
     "output_type": "stream",
     "text": [
      "218.150.183.94 - - [10/Aug/2020 12:50:31] \"\u001b[37mPOST / HTTP/1.1\u001b[0m\" 200 -\n"
     ]
    },
    {
     "name": "stdout",
     "output_type": "stream",
     "text": [
      "predictions 1\n",
      "cnt--------------------------> 30\n",
      "dataset 30\n",
      "segments 1\n",
      "testX 1\n"
     ]
    },
    {
     "name": "stderr",
     "output_type": "stream",
     "text": [
      "218.150.183.94 - - [10/Aug/2020 12:50:34] \"\u001b[37mPOST / HTTP/1.1\u001b[0m\" 200 -\n"
     ]
    },
    {
     "name": "stdout",
     "output_type": "stream",
     "text": [
      "predictions 1\n",
      "cnt--------------------------> 31\n",
      "dataset 30\n",
      "segments 1\n",
      "testX 1\n"
     ]
    },
    {
     "name": "stderr",
     "output_type": "stream",
     "text": [
      "218.150.183.94 - - [10/Aug/2020 12:50:37] \"\u001b[37mPOST / HTTP/1.1\u001b[0m\" 200 -\n"
     ]
    },
    {
     "name": "stdout",
     "output_type": "stream",
     "text": [
      "predictions 1\n",
      "cnt--------------------------> 32\n",
      "dataset 30\n",
      "segments 1\n",
      "testX 1\n"
     ]
    },
    {
     "name": "stderr",
     "output_type": "stream",
     "text": [
      "218.150.183.94 - - [10/Aug/2020 12:50:40] \"\u001b[37mPOST / HTTP/1.1\u001b[0m\" 200 -\n"
     ]
    },
    {
     "name": "stdout",
     "output_type": "stream",
     "text": [
      "predictions 1\n",
      "cnt--------------------------> 33\n",
      "dataset 30\n",
      "segments 1\n",
      "testX 1\n"
     ]
    },
    {
     "name": "stderr",
     "output_type": "stream",
     "text": [
      "218.150.183.94 - - [10/Aug/2020 12:50:43] \"\u001b[37mPOST / HTTP/1.1\u001b[0m\" 200 -\n"
     ]
    },
    {
     "name": "stdout",
     "output_type": "stream",
     "text": [
      "predictions 1\n",
      "cnt--------------------------> 34\n",
      "dataset 30\n",
      "segments 1\n",
      "testX 1\n"
     ]
    },
    {
     "name": "stderr",
     "output_type": "stream",
     "text": [
      "218.150.183.94 - - [10/Aug/2020 12:50:46] \"\u001b[37mPOST / HTTP/1.1\u001b[0m\" 200 -\n"
     ]
    },
    {
     "name": "stdout",
     "output_type": "stream",
     "text": [
      "predictions 1\n",
      "cnt--------------------------> 35\n",
      "dataset 30\n",
      "segments 1\n",
      "testX 1\n"
     ]
    },
    {
     "name": "stderr",
     "output_type": "stream",
     "text": [
      "218.150.183.94 - - [10/Aug/2020 12:50:49] \"\u001b[37mPOST / HTTP/1.1\u001b[0m\" 200 -\n"
     ]
    },
    {
     "name": "stdout",
     "output_type": "stream",
     "text": [
      "predictions 1\n",
      "cnt--------------------------> 36\n",
      "dataset 30\n",
      "segments 1\n",
      "testX 1\n"
     ]
    },
    {
     "name": "stderr",
     "output_type": "stream",
     "text": [
      "218.150.183.94 - - [10/Aug/2020 12:50:52] \"\u001b[37mPOST / HTTP/1.1\u001b[0m\" 200 -\n"
     ]
    },
    {
     "name": "stdout",
     "output_type": "stream",
     "text": [
      "predictions 1\n",
      "cnt--------------------------> 37\n",
      "dataset 30\n",
      "segments 1\n",
      "testX 1\n"
     ]
    },
    {
     "name": "stderr",
     "output_type": "stream",
     "text": [
      "218.150.183.94 - - [10/Aug/2020 12:50:55] \"\u001b[37mPOST / HTTP/1.1\u001b[0m\" 200 -\n"
     ]
    },
    {
     "name": "stdout",
     "output_type": "stream",
     "text": [
      "predictions 1\n",
      "cnt--------------------------> 38\n",
      "dataset 30\n",
      "segments 1\n",
      "testX 1\n"
     ]
    },
    {
     "name": "stderr",
     "output_type": "stream",
     "text": [
      "218.150.183.94 - - [10/Aug/2020 12:50:58] \"\u001b[37mPOST / HTTP/1.1\u001b[0m\" 200 -\n"
     ]
    },
    {
     "name": "stdout",
     "output_type": "stream",
     "text": [
      "predictions 1\n",
      "cnt--------------------------> 39\n",
      "dataset 30\n",
      "segments 1\n",
      "testX 1\n"
     ]
    },
    {
     "name": "stderr",
     "output_type": "stream",
     "text": [
      "218.150.183.94 - - [10/Aug/2020 12:51:01] \"\u001b[37mPOST / HTTP/1.1\u001b[0m\" 200 -\n"
     ]
    },
    {
     "name": "stdout",
     "output_type": "stream",
     "text": [
      "predictions 1\n",
      "cnt--------------------------> 40\n",
      "dataset 30\n",
      "segments 1\n",
      "testX 1\n"
     ]
    },
    {
     "name": "stderr",
     "output_type": "stream",
     "text": [
      "218.150.183.94 - - [10/Aug/2020 12:51:04] \"\u001b[37mPOST / HTTP/1.1\u001b[0m\" 200 -\n"
     ]
    },
    {
     "name": "stdout",
     "output_type": "stream",
     "text": [
      "predictions 1\n",
      "cnt--------------------------> 41\n",
      "dataset 30\n",
      "segments 1\n",
      "testX 1\n"
     ]
    },
    {
     "name": "stderr",
     "output_type": "stream",
     "text": [
      "218.150.183.94 - - [10/Aug/2020 12:51:07] \"\u001b[37mPOST / HTTP/1.1\u001b[0m\" 200 -\n"
     ]
    },
    {
     "name": "stdout",
     "output_type": "stream",
     "text": [
      "predictions 1\n",
      "cnt--------------------------> 42\n",
      "dataset 30\n",
      "segments 1\n",
      "testX 1\n"
     ]
    },
    {
     "name": "stderr",
     "output_type": "stream",
     "text": [
      "218.150.183.94 - - [10/Aug/2020 12:51:10] \"\u001b[37mPOST / HTTP/1.1\u001b[0m\" 200 -\n"
     ]
    },
    {
     "name": "stdout",
     "output_type": "stream",
     "text": [
      "predictions 1\n",
      "cnt--------------------------> 43\n",
      "dataset 30\n",
      "segments 1\n",
      "testX 1\n"
     ]
    },
    {
     "name": "stderr",
     "output_type": "stream",
     "text": [
      "218.150.183.94 - - [10/Aug/2020 12:51:13] \"\u001b[37mPOST / HTTP/1.1\u001b[0m\" 200 -\n"
     ]
    },
    {
     "name": "stdout",
     "output_type": "stream",
     "text": [
      "predictions 1\n",
      "cnt--------------------------> 44\n",
      "dataset 30\n",
      "segments 1\n",
      "testX 1\n"
     ]
    },
    {
     "name": "stderr",
     "output_type": "stream",
     "text": [
      "218.150.183.94 - - [10/Aug/2020 12:51:16] \"\u001b[37mPOST / HTTP/1.1\u001b[0m\" 200 -\n"
     ]
    },
    {
     "name": "stdout",
     "output_type": "stream",
     "text": [
      "predictions 1\n",
      "cnt--------------------------> 45\n",
      "dataset 30\n",
      "segments 1\n",
      "testX 1\n"
     ]
    },
    {
     "name": "stderr",
     "output_type": "stream",
     "text": [
      "218.150.183.94 - - [10/Aug/2020 12:51:19] \"\u001b[37mPOST / HTTP/1.1\u001b[0m\" 200 -\n"
     ]
    },
    {
     "name": "stdout",
     "output_type": "stream",
     "text": [
      "predictions 1\n",
      "cnt--------------------------> 46\n",
      "dataset 30\n",
      "segments 1\n",
      "testX 1\n"
     ]
    },
    {
     "name": "stderr",
     "output_type": "stream",
     "text": [
      "218.150.183.94 - - [10/Aug/2020 12:51:22] \"\u001b[37mPOST / HTTP/1.1\u001b[0m\" 200 -\n"
     ]
    },
    {
     "name": "stdout",
     "output_type": "stream",
     "text": [
      "predictions 1\n",
      "cnt--------------------------> 47\n",
      "dataset 30\n",
      "segments 1\n",
      "testX 1\n"
     ]
    },
    {
     "name": "stderr",
     "output_type": "stream",
     "text": [
      "218.150.183.94 - - [10/Aug/2020 12:51:25] \"\u001b[37mPOST / HTTP/1.1\u001b[0m\" 200 -\n"
     ]
    },
    {
     "name": "stdout",
     "output_type": "stream",
     "text": [
      "predictions 1\n",
      "cnt--------------------------> 48\n",
      "dataset 30\n",
      "segments 1\n",
      "testX 1\n"
     ]
    },
    {
     "name": "stderr",
     "output_type": "stream",
     "text": [
      "218.150.183.94 - - [10/Aug/2020 12:51:28] \"\u001b[37mPOST / HTTP/1.1\u001b[0m\" 200 -\n"
     ]
    },
    {
     "name": "stdout",
     "output_type": "stream",
     "text": [
      "predictions 1\n",
      "cnt--------------------------> 49\n",
      "dataset 30\n",
      "segments 1\n",
      "testX 1\n"
     ]
    },
    {
     "name": "stderr",
     "output_type": "stream",
     "text": [
      "218.150.183.94 - - [10/Aug/2020 12:51:31] \"\u001b[37mPOST / HTTP/1.1\u001b[0m\" 200 -\n"
     ]
    },
    {
     "name": "stdout",
     "output_type": "stream",
     "text": [
      "predictions 1\n",
      "cnt--------------------------> 50\n",
      "dataset 30\n",
      "segments 1\n",
      "testX 1\n"
     ]
    },
    {
     "name": "stderr",
     "output_type": "stream",
     "text": [
      "218.150.183.94 - - [10/Aug/2020 12:51:35] \"\u001b[37mPOST / HTTP/1.1\u001b[0m\" 200 -\n"
     ]
    },
    {
     "name": "stdout",
     "output_type": "stream",
     "text": [
      "predictions 1\n",
      "cnt--------------------------> 51\n",
      "dataset 30\n",
      "segments 1\n",
      "testX 1\n"
     ]
    },
    {
     "name": "stderr",
     "output_type": "stream",
     "text": [
      "218.150.183.94 - - [10/Aug/2020 12:51:37] \"\u001b[37mPOST / HTTP/1.1\u001b[0m\" 200 -\n"
     ]
    },
    {
     "name": "stdout",
     "output_type": "stream",
     "text": [
      "predictions 1\n",
      "cnt--------------------------> 52\n",
      "dataset 30\n",
      "segments 1\n",
      "testX 1\n"
     ]
    },
    {
     "name": "stderr",
     "output_type": "stream",
     "text": [
      "218.150.183.94 - - [10/Aug/2020 12:51:40] \"\u001b[37mPOST / HTTP/1.1\u001b[0m\" 200 -\n"
     ]
    },
    {
     "name": "stdout",
     "output_type": "stream",
     "text": [
      "predictions 1\n",
      "cnt--------------------------> 53\n",
      "dataset 30\n",
      "segments 1\n",
      "testX 1\n"
     ]
    },
    {
     "name": "stderr",
     "output_type": "stream",
     "text": [
      "218.150.183.94 - - [10/Aug/2020 12:51:43] \"\u001b[37mPOST / HTTP/1.1\u001b[0m\" 200 -\n"
     ]
    },
    {
     "name": "stdout",
     "output_type": "stream",
     "text": [
      "predictions 1\n",
      "cnt--------------------------> 54\n",
      "dataset 30\n",
      "segments 1\n",
      "testX 1\n"
     ]
    },
    {
     "name": "stderr",
     "output_type": "stream",
     "text": [
      "218.150.183.94 - - [10/Aug/2020 12:51:46] \"\u001b[37mPOST / HTTP/1.1\u001b[0m\" 200 -\n"
     ]
    },
    {
     "name": "stdout",
     "output_type": "stream",
     "text": [
      "predictions 1\n",
      "cnt--------------------------> 55\n",
      "dataset 30\n",
      "segments 1\n",
      "testX 1\n"
     ]
    },
    {
     "name": "stderr",
     "output_type": "stream",
     "text": [
      "218.150.183.94 - - [10/Aug/2020 12:51:49] \"\u001b[37mPOST / HTTP/1.1\u001b[0m\" 200 -\n"
     ]
    },
    {
     "name": "stdout",
     "output_type": "stream",
     "text": [
      "predictions 1\n",
      "cnt--------------------------> 56\n",
      "dataset 30\n",
      "segments 1\n",
      "testX 1\n"
     ]
    },
    {
     "name": "stderr",
     "output_type": "stream",
     "text": [
      "218.150.183.94 - - [10/Aug/2020 12:51:52] \"\u001b[37mPOST / HTTP/1.1\u001b[0m\" 200 -\n"
     ]
    },
    {
     "name": "stdout",
     "output_type": "stream",
     "text": [
      "predictions 1\n",
      "cnt--------------------------> 57\n",
      "dataset 30\n",
      "segments 1\n",
      "testX 1\n"
     ]
    },
    {
     "name": "stderr",
     "output_type": "stream",
     "text": [
      "218.150.183.94 - - [10/Aug/2020 12:51:56] \"\u001b[37mPOST / HTTP/1.1\u001b[0m\" 200 -\n"
     ]
    },
    {
     "name": "stdout",
     "output_type": "stream",
     "text": [
      "predictions 1\n",
      "cnt--------------------------> 58\n",
      "dataset 30\n",
      "segments 1\n",
      "testX 1\n"
     ]
    },
    {
     "name": "stderr",
     "output_type": "stream",
     "text": [
      "218.150.183.94 - - [10/Aug/2020 12:51:58] \"\u001b[37mPOST / HTTP/1.1\u001b[0m\" 200 -\n"
     ]
    },
    {
     "name": "stdout",
     "output_type": "stream",
     "text": [
      "predictions 1\n",
      "cnt--------------------------> 59\n",
      "dataset 30\n",
      "segments 1\n",
      "testX 1\n"
     ]
    },
    {
     "name": "stderr",
     "output_type": "stream",
     "text": [
      "218.150.183.94 - - [10/Aug/2020 12:52:01] \"\u001b[37mPOST / HTTP/1.1\u001b[0m\" 200 -\n"
     ]
    },
    {
     "name": "stdout",
     "output_type": "stream",
     "text": [
      "predictions 1\n",
      "cnt--------------------------> 60\n",
      "dataset 30\n",
      "segments 1\n",
      "testX 1\n"
     ]
    },
    {
     "name": "stderr",
     "output_type": "stream",
     "text": [
      "218.150.183.94 - - [10/Aug/2020 12:52:04] \"\u001b[37mPOST / HTTP/1.1\u001b[0m\" 200 -\n"
     ]
    },
    {
     "name": "stdout",
     "output_type": "stream",
     "text": [
      "predictions 1\n",
      "cnt--------------------------> 61\n",
      "dataset 30\n",
      "segments 1\n",
      "testX 1\n"
     ]
    },
    {
     "name": "stderr",
     "output_type": "stream",
     "text": [
      "218.150.183.94 - - [10/Aug/2020 12:52:07] \"\u001b[37mPOST / HTTP/1.1\u001b[0m\" 200 -\n"
     ]
    },
    {
     "name": "stdout",
     "output_type": "stream",
     "text": [
      "predictions 1\n",
      "cnt--------------------------> 62\n",
      "dataset 30\n",
      "segments 1\n",
      "testX 1\n"
     ]
    },
    {
     "name": "stderr",
     "output_type": "stream",
     "text": [
      "218.150.183.94 - - [10/Aug/2020 12:52:10] \"\u001b[37mPOST / HTTP/1.1\u001b[0m\" 200 -\n"
     ]
    },
    {
     "name": "stdout",
     "output_type": "stream",
     "text": [
      "predictions 1\n",
      "cnt--------------------------> 63\n",
      "dataset 30\n",
      "segments 1\n",
      "testX 1\n"
     ]
    },
    {
     "name": "stderr",
     "output_type": "stream",
     "text": [
      "218.150.183.94 - - [10/Aug/2020 12:52:13] \"\u001b[37mPOST / HTTP/1.1\u001b[0m\" 200 -\n"
     ]
    },
    {
     "name": "stdout",
     "output_type": "stream",
     "text": [
      "predictions 1\n",
      "cnt--------------------------> 64\n",
      "dataset 30\n",
      "segments 1\n",
      "testX 1\n"
     ]
    },
    {
     "name": "stderr",
     "output_type": "stream",
     "text": [
      "218.150.183.94 - - [10/Aug/2020 12:52:16] \"\u001b[37mPOST / HTTP/1.1\u001b[0m\" 200 -\n"
     ]
    },
    {
     "name": "stdout",
     "output_type": "stream",
     "text": [
      "predictions 1\n",
      "cnt--------------------------> 65\n",
      "dataset 30\n",
      "segments 1\n",
      "testX 1\n"
     ]
    },
    {
     "name": "stderr",
     "output_type": "stream",
     "text": [
      "218.150.183.94 - - [10/Aug/2020 12:52:19] \"\u001b[37mPOST / HTTP/1.1\u001b[0m\" 200 -\n"
     ]
    },
    {
     "name": "stdout",
     "output_type": "stream",
     "text": [
      "predictions 1\n",
      "cnt--------------------------> 66\n",
      "dataset 30\n",
      "segments 1\n",
      "testX 1\n"
     ]
    },
    {
     "name": "stderr",
     "output_type": "stream",
     "text": [
      "218.150.183.94 - - [10/Aug/2020 12:52:23] \"\u001b[37mPOST / HTTP/1.1\u001b[0m\" 200 -\n"
     ]
    }
   ],
   "source": [
    "# CNN 서버 실행\n",
    "\n",
    "from flask import Flask, jsonify, request\n",
    "from tensorflow import keras\n",
    "\n",
    "cnt =0\n",
    "\n",
    "app = Flask(__name__)\n",
    "@app.route(\"/\", methods=[\"POST\"])\n",
    "def index():\n",
    "    global cnt\n",
    "    \n",
    "    cnt+=1\n",
    "    \n",
    "    data = request.json\n",
    "    #print(data[\"xAcc\"].split(','))\n",
    "    #print()\n",
    "    tmp_data = {\n",
    "           'activity'  : ['pushup']*30,\n",
    "           'timestamp' : [1,2,3,4,5,6,7,8,9,10,11,12,13,14,15,16,17,18,19,20,21,22,23,24,25,26,27,28,29,30],\n",
    "           'x-axis'    : list(map(float,data[\"xAcc\"].split(','))),\n",
    "           'y-axis'    : list(map(float,data[\"yAcc\"].split(','))),\n",
    "           'z-axis'    : list(map(float,data[\"zAcc\"].split(','))),\n",
    "           'x-rotate'  : list(map(float,data[\"xRot\"].split(','))),\n",
    "           'y-rotate'  : list(map(float,data[\"yRot\"].split(','))),\n",
    "           'z-rotate'  : list(map(float,data[\"zRot\"].split(','))),\n",
    "           'arms'      : list(map(float,data[\"AccRms\"].split(','))),\n",
    "           'rrms'      : list(map(float,data[\"RotRms\"].split(','))),\n",
    "           'roll'      : list(map(float,data[\"roll\"].split(','))),\n",
    "           'pitch'     : list(map(float,data[\"pitch\"].split(',')))\n",
    "           }\n",
    "\n",
    "    dataset = pd.DataFrame(tmp_data)\n",
    "    print('dataset',len(dataset))\n",
    "    # window size에 다가 50% 중첩이므로 totaldata/(windowsize/2)의 개수를 가진다 \n",
    "    segments, labels = segment_signal(dataset) \n",
    "    print('segments',len(segments))\n",
    "    numOfRows = segments.shape[1]\n",
    "    numOfColumns = segments.shape[2]\n",
    "    reshapedSegments = segments.reshape(segments.shape[0], numOfRows, numOfColumns,1)\n",
    "    testX = reshapedSegments\n",
    "    print('testX',len(testX))\n",
    "    testX = np.nan_to_num(testX)\n",
    "    model = load_model('../model/CNN/model.h5')\n",
    "    #predictions = model.predict(test_x,verbose=2)\n",
    "    predictions = model.predict_classes(testX)\n",
    "    \n",
    "    \n",
    "    predictions=predictions.tolist()\n",
    "    print('predictions',len(predictions))\n",
    "    \n",
    "    print('cnt-------------------------->',cnt)\n",
    "    #print(dataset)\n",
    "\n",
    "    #return jsonify({\"price\":result_dic[result]})\n",
    "    return jsonify({\"price\":answer[predictions[0]]})\n",
    " \n",
    "    \n",
    "if __name__ == '__main__':\n",
    "    app.run(host='0.0.0.0', port=2431, threaded=False)"
   ]
  },
  {
   "cell_type": "code",
   "execution_count": null,
   "metadata": {},
   "outputs": [],
   "source": []
  },
  {
   "cell_type": "code",
   "execution_count": null,
   "metadata": {},
   "outputs": [],
   "source": []
  }
 ],
 "metadata": {
  "kernelspec": {
   "display_name": "Python 3",
   "language": "python",
   "name": "python3"
  },
  "language_info": {
   "codemirror_mode": {
    "name": "ipython",
    "version": 3
   },
   "file_extension": ".py",
   "mimetype": "text/x-python",
   "name": "python",
   "nbconvert_exporter": "python",
   "pygments_lexer": "ipython3",
   "version": "3.7.6"
  }
 },
 "nbformat": 4,
 "nbformat_minor": 4
}
