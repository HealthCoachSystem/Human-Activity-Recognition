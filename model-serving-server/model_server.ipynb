{
 "cells": [
  {
   "cell_type": "code",
   "execution_count": 11,
   "metadata": {},
   "outputs": [
    {
     "name": "stdout",
     "output_type": "stream",
     "text": [
      " * Serving Flask app \"__main__\" (lazy loading)\n",
      " * Environment: production\n",
      "   WARNING: This is a development server. Do not use it in a production deployment.\n",
      "   Use a production WSGI server instead.\n",
      " * Debug mode: off\n"
     ]
    },
    {
     "name": "stderr",
     "output_type": "stream",
     "text": [
      " * Running on http://0.0.0.0:2431/ (Press CTRL+C to quit)\n",
      "124.111.21.208 - - [08/Jul/2020 09:04:50] \"\u001b[37mPOST / HTTP/1.1\u001b[0m\" 200 -\n"
     ]
    },
    {
     "name": "stdout",
     "output_type": "stream",
     "text": [
      "temp_list [-0.581176758, -0.932495117, 0.26574707, 3.170731707, 1.463414634, 5.426829268, 1.130457904, 6.453340054, -1.293171093, -1.141923992]\n",
      "---------------------> 1\n"
     ]
    },
    {
     "name": "stderr",
     "output_type": "stream",
     "text": [
      "124.111.21.208 - - [08/Jul/2020 09:04:50] \"\u001b[37mPOST / HTTP/1.1\u001b[0m\" 200 -\n"
     ]
    },
    {
     "name": "stdout",
     "output_type": "stream",
     "text": [
      "temp_list [-0.581176758, -0.932495117, 0.26574707, 3.170731707, 1.463414634, 5.426829268, 1.130457904, 6.453340054, -1.293171093, -1.141923992]\n",
      "---------------------> 2\n"
     ]
    },
    {
     "name": "stderr",
     "output_type": "stream",
     "text": [
      "124.111.21.208 - - [08/Jul/2020 09:04:51] \"\u001b[37mPOST / HTTP/1.1\u001b[0m\" 200 -\n"
     ]
    },
    {
     "name": "stdout",
     "output_type": "stream",
     "text": [
      "temp_list [-0.581176758, -0.932495117, 0.26574707, 3.170731707, 1.463414634, 5.426829268, 1.130457904, 6.453340054, -1.293171093, -1.141923992]\n",
      "---------------------> 3\n"
     ]
    },
    {
     "name": "stderr",
     "output_type": "stream",
     "text": [
      "124.111.21.208 - - [08/Jul/2020 09:04:51] \"\u001b[37mPOST / HTTP/1.1\u001b[0m\" 200 -\n"
     ]
    },
    {
     "name": "stdout",
     "output_type": "stream",
     "text": [
      "temp_list [-0.581176758, -0.932495117, 0.26574707, 3.170731707, 1.463414634, 5.426829268, 1.130457904, 6.453340054, -1.293171093, -1.141923992]\n",
      "---------------------> 4\n"
     ]
    },
    {
     "name": "stderr",
     "output_type": "stream",
     "text": [
      "124.111.21.208 - - [08/Jul/2020 09:04:51] \"\u001b[37mPOST / HTTP/1.1\u001b[0m\" 200 -\n"
     ]
    },
    {
     "name": "stdout",
     "output_type": "stream",
     "text": [
      "temp_list [-0.581176758, -0.932495117, 0.26574707, 3.170731707, 1.463414634, 5.426829268, 1.130457904, 6.453340054, -1.293171093, -1.141923992]\n",
      "---------------------> 5\n"
     ]
    },
    {
     "name": "stderr",
     "output_type": "stream",
     "text": [
      "124.111.21.208 - - [08/Jul/2020 09:04:52] \"\u001b[37mPOST / HTTP/1.1\u001b[0m\" 200 -\n"
     ]
    },
    {
     "name": "stdout",
     "output_type": "stream",
     "text": [
      "temp_list [-0.581176758, -0.932495117, 0.26574707, 3.170731707, 1.463414634, 5.426829268, 1.130457904, 6.453340054, -1.293171093, -1.141923992]\n",
      "---------------------> 6\n"
     ]
    },
    {
     "name": "stderr",
     "output_type": "stream",
     "text": [
      "124.111.21.208 - - [08/Jul/2020 09:04:52] \"\u001b[37mPOST / HTTP/1.1\u001b[0m\" 200 -\n"
     ]
    },
    {
     "name": "stdout",
     "output_type": "stream",
     "text": [
      "temp_list [-0.581176758, -0.932495117, 0.26574707, 3.170731707, 1.463414634, 5.426829268, 1.130457904, 6.453340054, -1.293171093, -1.141923992]\n",
      "---------------------> 7\n"
     ]
    },
    {
     "name": "stderr",
     "output_type": "stream",
     "text": [
      "124.111.21.208 - - [08/Jul/2020 09:04:52] \"\u001b[37mPOST / HTTP/1.1\u001b[0m\" 200 -\n"
     ]
    },
    {
     "name": "stdout",
     "output_type": "stream",
     "text": [
      "temp_list [-0.581176758, -0.932495117, 0.26574707, 3.170731707, 1.463414634, 5.426829268, 1.130457904, 6.453340054, -1.293171093, -1.141923992]\n",
      "---------------------> 8\n"
     ]
    },
    {
     "name": "stderr",
     "output_type": "stream",
     "text": [
      "124.111.21.208 - - [08/Jul/2020 09:04:53] \"\u001b[37mPOST / HTTP/1.1\u001b[0m\" 200 -\n"
     ]
    },
    {
     "name": "stdout",
     "output_type": "stream",
     "text": [
      "temp_list [-0.581176758, -0.932495117, 0.26574707, 3.170731707, 1.463414634, 5.426829268, 1.130457904, 6.453340054, -1.293171093, -1.141923992]\n",
      "---------------------> 9\n"
     ]
    },
    {
     "name": "stderr",
     "output_type": "stream",
     "text": [
      "124.111.21.208 - - [08/Jul/2020 09:04:53] \"\u001b[37mPOST / HTTP/1.1\u001b[0m\" 200 -\n"
     ]
    },
    {
     "name": "stdout",
     "output_type": "stream",
     "text": [
      "temp_list [-0.581176758, -0.932495117, 0.26574707, 3.170731707, 1.463414634, 5.426829268, 1.130457904, 6.453340054, -1.293171093, -1.141923992]\n",
      "---------------------> 10\n"
     ]
    },
    {
     "name": "stderr",
     "output_type": "stream",
     "text": [
      "124.111.21.208 - - [08/Jul/2020 09:04:53] \"\u001b[37mPOST / HTTP/1.1\u001b[0m\" 200 -\n"
     ]
    },
    {
     "name": "stdout",
     "output_type": "stream",
     "text": [
      "temp_list [-0.581176758, -0.932495117, 0.26574707, 3.170731707, 1.463414634, 5.426829268, 1.130457904, 6.453340054, -1.293171093, -1.141923992]\n",
      "---------------------> 11\n"
     ]
    },
    {
     "name": "stderr",
     "output_type": "stream",
     "text": [
      "124.111.21.208 - - [08/Jul/2020 09:04:54] \"\u001b[37mPOST / HTTP/1.1\u001b[0m\" 200 -\n"
     ]
    },
    {
     "name": "stdout",
     "output_type": "stream",
     "text": [
      "temp_list [-0.581176758, -0.932495117, 0.26574707, 3.170731707, 1.463414634, 5.426829268, 1.130457904, 6.453340054, -1.293171093, -1.141923992]\n",
      "---------------------> 12\n"
     ]
    },
    {
     "name": "stderr",
     "output_type": "stream",
     "text": [
      "124.111.21.208 - - [08/Jul/2020 09:04:54] \"\u001b[37mPOST / HTTP/1.1\u001b[0m\" 200 -\n"
     ]
    },
    {
     "name": "stdout",
     "output_type": "stream",
     "text": [
      "temp_list [-0.581176758, -0.932495117, 0.26574707, 3.170731707, 1.463414634, 5.426829268, 1.130457904, 6.453340054, -1.293171093, -1.141923992]\n",
      "---------------------> 13\n"
     ]
    },
    {
     "name": "stderr",
     "output_type": "stream",
     "text": [
      "124.111.21.208 - - [08/Jul/2020 09:04:55] \"\u001b[37mPOST / HTTP/1.1\u001b[0m\" 200 -\n"
     ]
    },
    {
     "name": "stdout",
     "output_type": "stream",
     "text": [
      "temp_list [-0.581176758, -0.932495117, 0.26574707, 3.170731707, 1.463414634, 5.426829268, 1.130457904, 6.453340054, -1.293171093, -1.141923992]\n",
      "---------------------> 14\n"
     ]
    },
    {
     "name": "stderr",
     "output_type": "stream",
     "text": [
      "124.111.21.208 - - [08/Jul/2020 09:04:55] \"\u001b[37mPOST / HTTP/1.1\u001b[0m\" 200 -\n"
     ]
    },
    {
     "name": "stdout",
     "output_type": "stream",
     "text": [
      "temp_list [-0.581176758, -0.932495117, 0.26574707, 3.170731707, 1.463414634, 5.426829268, 1.130457904, 6.453340054, -1.293171093, -1.141923992]\n",
      "---------------------> 15\n"
     ]
    },
    {
     "name": "stderr",
     "output_type": "stream",
     "text": [
      "124.111.21.208 - - [08/Jul/2020 09:04:55] \"\u001b[37mPOST / HTTP/1.1\u001b[0m\" 200 -\n"
     ]
    },
    {
     "name": "stdout",
     "output_type": "stream",
     "text": [
      "temp_list [-0.581176758, -0.932495117, 0.26574707, 3.170731707, 1.463414634, 5.426829268, 1.130457904, 6.453340054, -1.293171093, -1.141923992]\n",
      "---------------------> 16\n"
     ]
    },
    {
     "name": "stderr",
     "output_type": "stream",
     "text": [
      "124.111.21.208 - - [08/Jul/2020 09:04:56] \"\u001b[37mPOST / HTTP/1.1\u001b[0m\" 200 -\n"
     ]
    },
    {
     "name": "stdout",
     "output_type": "stream",
     "text": [
      "temp_list [-0.581176758, -0.932495117, 0.26574707, 3.170731707, 1.463414634, 5.426829268, 1.130457904, 6.453340054, -1.293171093, -1.141923992]\n",
      "---------------------> 17\n"
     ]
    },
    {
     "name": "stderr",
     "output_type": "stream",
     "text": [
      "124.111.21.208 - - [08/Jul/2020 09:04:56] \"\u001b[37mPOST / HTTP/1.1\u001b[0m\" 200 -\n"
     ]
    },
    {
     "name": "stdout",
     "output_type": "stream",
     "text": [
      "temp_list [-0.581176758, -0.932495117, 0.26574707, 3.170731707, 1.463414634, 5.426829268, 1.130457904, 6.453340054, -1.293171093, -1.141923992]\n",
      "---------------------> 18\n"
     ]
    },
    {
     "name": "stderr",
     "output_type": "stream",
     "text": [
      "124.111.21.208 - - [08/Jul/2020 09:04:56] \"\u001b[37mPOST / HTTP/1.1\u001b[0m\" 200 -\n"
     ]
    },
    {
     "name": "stdout",
     "output_type": "stream",
     "text": [
      "temp_list [-0.581176758, -0.932495117, 0.26574707, 3.170731707, 1.463414634, 5.426829268, 1.130457904, 6.453340054, -1.293171093, -1.141923992]\n",
      "---------------------> 19\n"
     ]
    },
    {
     "name": "stderr",
     "output_type": "stream",
     "text": [
      "124.111.21.208 - - [08/Jul/2020 09:04:57] \"\u001b[37mPOST / HTTP/1.1\u001b[0m\" 200 -\n"
     ]
    },
    {
     "name": "stdout",
     "output_type": "stream",
     "text": [
      "temp_list [-0.581176758, -0.932495117, 0.26574707, 3.170731707, 1.463414634, 5.426829268, 1.130457904, 6.453340054, -1.293171093, -1.141923992]\n",
      "---------------------> 20\n"
     ]
    },
    {
     "name": "stderr",
     "output_type": "stream",
     "text": [
      "124.111.21.208 - - [08/Jul/2020 09:04:57] \"\u001b[37mPOST / HTTP/1.1\u001b[0m\" 200 -\n"
     ]
    },
    {
     "name": "stdout",
     "output_type": "stream",
     "text": [
      "temp_list [-0.581176758, -0.932495117, 0.26574707, 3.170731707, 1.463414634, 5.426829268, 1.130457904, 6.453340054, -1.293171093, -1.141923992]\n",
      "---------------------> 21\n"
     ]
    },
    {
     "name": "stderr",
     "output_type": "stream",
     "text": [
      "124.111.21.208 - - [08/Jul/2020 09:04:57] \"\u001b[37mPOST / HTTP/1.1\u001b[0m\" 200 -\n"
     ]
    },
    {
     "name": "stdout",
     "output_type": "stream",
     "text": [
      "temp_list [-0.581176758, -0.932495117, 0.26574707, 3.170731707, 1.463414634, 5.426829268, 1.130457904, 6.453340054, -1.293171093, -1.141923992]\n",
      "---------------------> 22\n"
     ]
    },
    {
     "name": "stderr",
     "output_type": "stream",
     "text": [
      "124.111.21.208 - - [08/Jul/2020 09:04:58] \"\u001b[37mPOST / HTTP/1.1\u001b[0m\" 200 -\n"
     ]
    },
    {
     "name": "stdout",
     "output_type": "stream",
     "text": [
      "temp_list [-0.581176758, -0.932495117, 0.26574707, 3.170731707, 1.463414634, 5.426829268, 1.130457904, 6.453340054, -1.293171093, -1.141923992]\n",
      "---------------------> 23\n"
     ]
    },
    {
     "name": "stderr",
     "output_type": "stream",
     "text": [
      "124.111.21.208 - - [08/Jul/2020 09:04:58] \"\u001b[37mPOST / HTTP/1.1\u001b[0m\" 200 -\n"
     ]
    },
    {
     "name": "stdout",
     "output_type": "stream",
     "text": [
      "temp_list [-0.581176758, -0.932495117, 0.26574707, 3.170731707, 1.463414634, 5.426829268, 1.130457904, 6.453340054, -1.293171093, -1.141923992]\n",
      "---------------------> 24\n"
     ]
    },
    {
     "name": "stderr",
     "output_type": "stream",
     "text": [
      "124.111.21.208 - - [08/Jul/2020 09:04:58] \"\u001b[37mPOST / HTTP/1.1\u001b[0m\" 200 -\n"
     ]
    },
    {
     "name": "stdout",
     "output_type": "stream",
     "text": [
      "temp_list [-0.581176758, -0.932495117, 0.26574707, 3.170731707, 1.463414634, 5.426829268, 1.130457904, 6.453340054, -1.293171093, -1.141923992]\n",
      "---------------------> 25\n"
     ]
    },
    {
     "name": "stderr",
     "output_type": "stream",
     "text": [
      "124.111.21.208 - - [08/Jul/2020 09:04:59] \"\u001b[37mPOST / HTTP/1.1\u001b[0m\" 200 -\n"
     ]
    },
    {
     "name": "stdout",
     "output_type": "stream",
     "text": [
      "temp_list [-0.581176758, -0.932495117, 0.26574707, 3.170731707, 1.463414634, 5.426829268, 1.130457904, 6.453340054, -1.293171093, -1.141923992]\n",
      "---------------------> 26\n"
     ]
    },
    {
     "name": "stderr",
     "output_type": "stream",
     "text": [
      "124.111.21.208 - - [08/Jul/2020 09:04:59] \"\u001b[37mPOST / HTTP/1.1\u001b[0m\" 200 -\n"
     ]
    },
    {
     "name": "stdout",
     "output_type": "stream",
     "text": [
      "temp_list [-0.581176758, -0.932495117, 0.26574707, 3.170731707, 1.463414634, 5.426829268, 1.130457904, 6.453340054, -1.293171093, -1.141923992]\n",
      "---------------------> 27\n"
     ]
    },
    {
     "name": "stderr",
     "output_type": "stream",
     "text": [
      "124.111.21.208 - - [08/Jul/2020 09:04:59] \"\u001b[37mPOST / HTTP/1.1\u001b[0m\" 200 -\n"
     ]
    },
    {
     "name": "stdout",
     "output_type": "stream",
     "text": [
      "temp_list [-0.581176758, -0.932495117, 0.26574707, 3.170731707, 1.463414634, 5.426829268, 1.130457904, 6.453340054, -1.293171093, -1.141923992]\n",
      "---------------------> 28\n"
     ]
    },
    {
     "name": "stderr",
     "output_type": "stream",
     "text": [
      "124.111.21.208 - - [08/Jul/2020 09:05:00] \"\u001b[37mPOST / HTTP/1.1\u001b[0m\" 200 -\n"
     ]
    },
    {
     "name": "stdout",
     "output_type": "stream",
     "text": [
      "temp_list [-0.581176758, -0.932495117, 0.26574707, 3.170731707, 1.463414634, 5.426829268, 1.130457904, 6.453340054, -1.293171093, -1.141923992]\n",
      "---------------------> 29\n"
     ]
    },
    {
     "name": "stderr",
     "output_type": "stream",
     "text": [
      "124.111.21.208 - - [08/Jul/2020 09:05:02] \"\u001b[37mPOST / HTTP/1.1\u001b[0m\" 200 -\n"
     ]
    },
    {
     "name": "stdout",
     "output_type": "stream",
     "text": [
      "temp_list [-0.581176758, -0.932495117, 0.26574707, 3.170731707, 1.463414634, 5.426829268, 1.130457904, 6.453340054, -1.293171093, -1.141923992]\n",
      "---------------------> 30\n"
     ]
    },
    {
     "name": "stderr",
     "output_type": "stream",
     "text": [
      "124.111.21.208 - - [08/Jul/2020 09:05:02] \"\u001b[37mPOST / HTTP/1.1\u001b[0m\" 200 -\n"
     ]
    },
    {
     "name": "stdout",
     "output_type": "stream",
     "text": [
      "temp_list [-0.581176758, -0.932495117, 0.26574707, 3.170731707, 1.463414634, 5.426829268, 1.130457904, 6.453340054, -1.293171093, -1.141923992]\n",
      "---------------------> 31\n"
     ]
    },
    {
     "name": "stderr",
     "output_type": "stream",
     "text": [
      "124.111.21.208 - - [08/Jul/2020 09:05:03] \"\u001b[37mPOST / HTTP/1.1\u001b[0m\" 200 -\n"
     ]
    },
    {
     "name": "stdout",
     "output_type": "stream",
     "text": [
      "temp_list [-0.581176758, -0.932495117, 0.26574707, 3.170731707, 1.463414634, 5.426829268, 1.130457904, 6.453340054, -1.293171093, -1.141923992]\n",
      "---------------------> 32\n"
     ]
    },
    {
     "name": "stderr",
     "output_type": "stream",
     "text": [
      "124.111.21.208 - - [08/Jul/2020 09:05:03] \"\u001b[37mPOST / HTTP/1.1\u001b[0m\" 200 -\n"
     ]
    },
    {
     "name": "stdout",
     "output_type": "stream",
     "text": [
      "temp_list [-0.581176758, -0.932495117, 0.26574707, 3.170731707, 1.463414634, 5.426829268, 1.130457904, 6.453340054, -1.293171093, -1.141923992]\n",
      "---------------------> 33\n"
     ]
    },
    {
     "name": "stderr",
     "output_type": "stream",
     "text": [
      "124.111.21.208 - - [08/Jul/2020 09:05:04] \"\u001b[37mPOST / HTTP/1.1\u001b[0m\" 200 -\n"
     ]
    },
    {
     "name": "stdout",
     "output_type": "stream",
     "text": [
      "temp_list [-0.581176758, -0.932495117, 0.26574707, 3.170731707, 1.463414634, 5.426829268, 1.130457904, 6.453340054, -1.293171093, -1.141923992]\n",
      "---------------------> 34\n"
     ]
    },
    {
     "name": "stderr",
     "output_type": "stream",
     "text": [
      "124.111.21.208 - - [08/Jul/2020 09:05:04] \"\u001b[37mPOST / HTTP/1.1\u001b[0m\" 200 -\n"
     ]
    },
    {
     "name": "stdout",
     "output_type": "stream",
     "text": [
      "temp_list [-0.581176758, -0.932495117, 0.26574707, 3.170731707, 1.463414634, 5.426829268, 1.130457904, 6.453340054, -1.293171093, -1.141923992]\n",
      "---------------------> 35\n"
     ]
    },
    {
     "name": "stderr",
     "output_type": "stream",
     "text": [
      "124.111.21.208 - - [08/Jul/2020 09:05:05] \"\u001b[37mPOST / HTTP/1.1\u001b[0m\" 200 -\n"
     ]
    },
    {
     "name": "stdout",
     "output_type": "stream",
     "text": [
      "temp_list [-0.581176758, -0.932495117, 0.26574707, 3.170731707, 1.463414634, 5.426829268, 1.130457904, 6.453340054, -1.293171093, -1.141923992]\n",
      "---------------------> 36\n"
     ]
    },
    {
     "name": "stderr",
     "output_type": "stream",
     "text": [
      "124.111.21.208 - - [08/Jul/2020 09:05:05] \"\u001b[37mPOST / HTTP/1.1\u001b[0m\" 200 -\n"
     ]
    },
    {
     "name": "stdout",
     "output_type": "stream",
     "text": [
      "temp_list [-0.581176758, -0.932495117, 0.26574707, 3.170731707, 1.463414634, 5.426829268, 1.130457904, 6.453340054, -1.293171093, -1.141923992]\n",
      "---------------------> 37\n"
     ]
    },
    {
     "name": "stderr",
     "output_type": "stream",
     "text": [
      "124.111.21.208 - - [08/Jul/2020 09:05:06] \"\u001b[37mPOST / HTTP/1.1\u001b[0m\" 200 -\n"
     ]
    },
    {
     "name": "stdout",
     "output_type": "stream",
     "text": [
      "temp_list [-0.581176758, -0.932495117, 0.26574707, 3.170731707, 1.463414634, 5.426829268, 1.130457904, 6.453340054, -1.293171093, -1.141923992]\n",
      "---------------------> 38\n"
     ]
    },
    {
     "name": "stderr",
     "output_type": "stream",
     "text": [
      "124.111.21.208 - - [08/Jul/2020 09:05:06] \"\u001b[37mPOST / HTTP/1.1\u001b[0m\" 200 -\n"
     ]
    },
    {
     "name": "stdout",
     "output_type": "stream",
     "text": [
      "temp_list [-0.581176758, -0.932495117, 0.26574707, 3.170731707, 1.463414634, 5.426829268, 1.130457904, 6.453340054, -1.293171093, -1.141923992]\n",
      "---------------------> 39\n",
      "temp_list [-0.581176758, -0.932495117, 0.26574707, 3.170731707, 1.463414634, 5.426829268, 1.130457904, 6.453340054, -1.293171093, -1.141923992]\n",
      "---------------------> 40\n"
     ]
    },
    {
     "name": "stderr",
     "output_type": "stream",
     "text": [
      "124.111.21.208 - - [08/Jul/2020 09:05:07] \"\u001b[37mPOST / HTTP/1.1\u001b[0m\" 200 -\n"
     ]
    },
    {
     "name": "stdout",
     "output_type": "stream",
     "text": [
      "------------------------------------------------\n",
      "result 1\n",
      "------------------------------------------------\n"
     ]
    },
    {
     "name": "stderr",
     "output_type": "stream",
     "text": [
      "124.111.21.208 - - [08/Jul/2020 09:05:07] \"\u001b[37mPOST / HTTP/1.1\u001b[0m\" 200 -\n"
     ]
    },
    {
     "name": "stdout",
     "output_type": "stream",
     "text": [
      "temp_list [-0.581176758, -0.932495117, 0.26574707, 3.170731707, 1.463414634, 5.426829268, 1.130457904, 6.453340054, -1.293171093, -1.141923992]\n",
      "---------------------> 1\n"
     ]
    },
    {
     "name": "stderr",
     "output_type": "stream",
     "text": [
      "124.111.21.208 - - [08/Jul/2020 09:05:08] \"\u001b[37mPOST / HTTP/1.1\u001b[0m\" 200 -\n"
     ]
    },
    {
     "name": "stdout",
     "output_type": "stream",
     "text": [
      "temp_list [-0.581176758, -0.932495117, 0.26574707, 3.170731707, 1.463414634, 5.426829268, 1.130457904, 6.453340054, -1.293171093, -1.141923992]\n",
      "---------------------> 2\n"
     ]
    },
    {
     "name": "stderr",
     "output_type": "stream",
     "text": [
      "124.111.21.208 - - [08/Jul/2020 09:05:08] \"\u001b[37mPOST / HTTP/1.1\u001b[0m\" 200 -\n"
     ]
    },
    {
     "name": "stdout",
     "output_type": "stream",
     "text": [
      "temp_list [-0.581176758, -0.932495117, 0.26574707, 3.170731707, 1.463414634, 5.426829268, 1.130457904, 6.453340054, -1.293171093, -1.141923992]\n",
      "---------------------> 3\n"
     ]
    },
    {
     "name": "stderr",
     "output_type": "stream",
     "text": [
      "124.111.21.208 - - [08/Jul/2020 09:05:08] \"\u001b[37mPOST / HTTP/1.1\u001b[0m\" 200 -\n"
     ]
    },
    {
     "name": "stdout",
     "output_type": "stream",
     "text": [
      "temp_list [-0.581176758, -0.932495117, 0.26574707, 3.170731707, 1.463414634, 5.426829268, 1.130457904, 6.453340054, -1.293171093, -1.141923992]\n",
      "---------------------> 4\n"
     ]
    },
    {
     "name": "stderr",
     "output_type": "stream",
     "text": [
      "124.111.21.208 - - [08/Jul/2020 09:05:09] \"\u001b[37mPOST / HTTP/1.1\u001b[0m\" 200 -\n"
     ]
    },
    {
     "name": "stdout",
     "output_type": "stream",
     "text": [
      "temp_list [-0.581176758, -0.932495117, 0.26574707, 3.170731707, 1.463414634, 5.426829268, 1.130457904, 6.453340054, -1.293171093, -1.141923992]\n",
      "---------------------> 5\n"
     ]
    }
   ],
   "source": [
    "import pandas as pd\n",
    "import numpy as np\n",
    "from flask import Flask, jsonify, request\n",
    "from tensorflow import keras\n",
    "\n",
    "app = Flask(__name__)\n",
    "model = keras.models.load_model(\"../model/best_weights.h5\")\n",
    "num=0\n",
    "result_dic={1:\"pushup\",2:\"situp\",3:\"squat\"}\n",
    "test=[]\n",
    "@app.route(\"/\", methods=[\"POST\"])\n",
    "def index():\n",
    "    global num\n",
    "    global test\n",
    "    num+=1\n",
    "    temp_list=[]\n",
    "    data = request.json\n",
    "    temp_list.append(data[\"xAcc\"])\n",
    "    temp_list.append(data[\"yAcc\"])\n",
    "    temp_list.append(data[\"zAcc\"])\n",
    "    temp_list.append(data[\"xRot\"])\n",
    "    temp_list.append(data[\"yRot\"])\n",
    "    temp_list.append(data[\"zRot\"])\n",
    "    temp_list.append(data[\"AccRms\"])\n",
    "    temp_list.append(data[\"RotRms\"])\n",
    "    temp_list.append(data[\"roll\"])\n",
    "    temp_list.append(data[\"pitch\"])\n",
    "    test.append(temp_list)\n",
    "    print('temp_list',temp_list)\n",
    "    #print(test)\n",
    "    #result=int(model.predict_classes(np.array(test))[0])\n",
    "    print('--------------------->', len(test))\n",
    "    if(len(test)==40): # 모델에 적용한 window size 때문에 데이터가 이만큼 있어야함.\n",
    "        result=int(model.predict_classes(np.array([test]))[0])\n",
    "        print('------------------------------------------------')\n",
    "        print('result',result)\n",
    "        print('------------------------------------------------')\n",
    "        #for i in range(len(test)):\n",
    "         #   del test[0]\n",
    "        test=[]\n",
    "        return jsonify({\"price\":result_dic[result]})\n",
    "    else :\n",
    "        return '222'\n",
    "    \n",
    "if __name__ == '__main__':\n",
    "    app.run(host='0.0.0.0', port=2431, threaded=False)"
   ]
  },
  {
   "cell_type": "code",
   "execution_count": 7,
   "metadata": {},
   "outputs": [
    {
     "data": {
      "text/plain": [
       "'\\nfrom math import expm1\\n\\nimport joblib\\nimport pandas as pd\\nfrom flask import Flask, jsonify, request\\nfrom tensorflow import keras\\n\\n\\nmodel = keras.models.load_model(\"./price_prediction_model.h5\")\\ntransformer = joblib.load(\"./data_transformer.joblib\")\\n\\napp = Flask(__name__)\\n@app.route(\"/\", methods=[\"POST\"])\\ndef index():\\n    #and_data = request.get_json(silent=True, cache=False, force=True)\\n    #print(and_data)\\n    data = request.json\\n    df = pd.DataFrame(data, index=[0])\\n    prediction = model.predict(transformer.transform(df))\\n    predicted_price = expm1(prediction.flatten()[0])\\n    return jsonify({\"price\": str(predicted_price)})\\nif __name__ == \\'__main__\\':\\n    app.run(host=\\'0.0.0.0\\', port=2431, threaded=False)\\n'"
      ]
     },
     "execution_count": 7,
     "metadata": {},
     "output_type": "execute_result"
    }
   ],
   "source": [
    "# 원래 연비 측정 모델 flask 서버 \n",
    "\"\"\"\n",
    "from math import expm1\n",
    "\n",
    "import joblib\n",
    "import pandas as pd\n",
    "from flask import Flask, jsonify, request\n",
    "from tensorflow import keras\n",
    "\n",
    "\n",
    "model = keras.models.load_model(\"./price_prediction_model.h5\")\n",
    "transformer = joblib.load(\"./data_transformer.joblib\")\n",
    "\n",
    "app = Flask(__name__)\n",
    "@app.route(\"/\", methods=[\"POST\"])\n",
    "def index():\n",
    "    #and_data = request.get_json(silent=True, cache=False, force=True)\n",
    "    #print(and_data)\n",
    "    data = request.json\n",
    "    df = pd.DataFrame(data, index=[0])\n",
    "    prediction = model.predict(transformer.transform(df))\n",
    "    predicted_price = expm1(prediction.flatten()[0])\n",
    "    return jsonify({\"price\": str(predicted_price)})\n",
    "if __name__ == '__main__':\n",
    "    app.run(host='0.0.0.0', port=2431, threaded=False)\n",
    "\"\"\""
   ]
  },
  {
   "cell_type": "code",
   "execution_count": null,
   "metadata": {},
   "outputs": [],
   "source": []
  },
  {
   "cell_type": "code",
   "execution_count": null,
   "metadata": {},
   "outputs": [],
   "source": []
  },
  {
   "cell_type": "code",
   "execution_count": null,
   "metadata": {},
   "outputs": [],
   "source": []
  }
 ],
 "metadata": {
  "kernelspec": {
   "display_name": "Python 3",
   "language": "python",
   "name": "python3"
  },
  "language_info": {
   "codemirror_mode": {
    "name": "ipython",
    "version": 3
   },
   "file_extension": ".py",
   "mimetype": "text/x-python",
   "name": "python",
   "nbconvert_exporter": "python",
   "pygments_lexer": "ipython3",
   "version": "3.7.6"
  }
 },
 "nbformat": 4,
 "nbformat_minor": 4
}
